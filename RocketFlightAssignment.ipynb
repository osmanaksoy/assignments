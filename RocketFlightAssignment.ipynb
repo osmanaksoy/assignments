{
 "metadata": {
  "name": "",
  "signature": "sha256:6e231064df103c3d37ff8d44b8e8ded4999e8a087ded9479c428c9a65c29fed5"
 },
 "nbformat": 3,
 "nbformat_minor": 0,
 "worksheets": [
  {
   "cells": [
    {
     "cell_type": "code",
     "collapsed": false,
     "input": [
      "from math import sin, cos, log, pi\n",
      "import numpy\n",
      "import matplotlib.pyplot as plt\n",
      "get_ipython().magic(u'matplotlib inline')\n",
      "from matplotlib import rcParams\n",
      "rcParams['font.family'] = 'serif'\n",
      "rcParams['font.size'] = 16"
     ],
     "language": "python",
     "metadata": {},
     "outputs": [],
     "prompt_number": 1
    },
    {
     "cell_type": "code",
     "collapsed": false,
     "input": [
      "# model parameters:\n",
      "ms = 50.0       # Weight of the rocket shell in kg\n",
      "g = 9.81        # Gravity in m s^{-2}   \n",
      "rho = 1.091      # Density i kg m^{-3}\n",
      "A = pi*0.5**2   # Maximum cross sectional area of the rocket in m^{2}\n",
      "v_e = 325.0     # Exhaust speed in m s^{-1}\n",
      "C_D = 0.15      # Drag coefficient \n",
      "mp_dot = 20.0     # Propellent burn rate in kg s^{-1}\n",
      "\n",
      "### set initial conditions ###\n",
      "h0 =0.0      # start at the height\n",
      "v0 = 0.0     # start at the velocity\n",
      "mp0 = 100.0  # initial weight of the rocket propellant\n",
      "t0 = 0.0     # initial time"
     ],
     "language": "python",
     "metadata": {},
     "outputs": [],
     "prompt_number": 2
    },
    {
     "cell_type": "code",
     "collapsed": false,
     "input": [
      "def f1(u):\n",
      "    \n",
      "    \n",
      "    h = u[0]\n",
      "    v = u[1]\n",
      "    mp = u[2]\n",
      "    t_t = u[3]\n",
      "    return numpy.array([v,\n",
      "                      -g+((mp_dot*v_e)/(ms+mp))-((rho*v*abs(v)*A*C_D)/(2*(ms+mp))),\n",
      "                      -mp_dot,\n",
      "                      1])\n",
      "\n",
      "def f2(u):\n",
      "    \n",
      "    \n",
      "    h = u[0]\n",
      "    v = u[1]\n",
      "    mp = u[2]\n",
      "    t_t = u[3]\n",
      "    return numpy.array([v,\n",
      "                      -g-((rho*v*abs(v)*A*C_D)/(2*(ms+mp))),\n",
      "                      0,\n",
      "                      1])"
     ],
     "language": "python",
     "metadata": {},
     "outputs": [],
     "prompt_number": 3
    },
    {
     "cell_type": "code",
     "collapsed": false,
     "input": [
      "def euler_step1(u, f1, dt):\n",
      "    \n",
      "    \n",
      "    return u + dt * f1(u)\n",
      "\n",
      "def euler_step2(u, f2, dt):\n",
      "    \n",
      "    \n",
      "    return u + dt * f2(u)"
     ],
     "language": "python",
     "metadata": {},
     "outputs": [],
     "prompt_number": 4
    },
    {
     "cell_type": "code",
     "collapsed": false,
     "input": [
      "T1 = 5.0                           # final time\n",
      "T2 = 50.0\n",
      "dt = 0.1                           # time increment\n",
      "N1 = int(T1/dt) + 2                  # number of time-steps\n",
      "N2 = int(T2/dt) + 2\n",
      "t1 = numpy.linspace(0.0, T1, N2)      # time discretization\n",
      "t2 = numpy.linspace(0.0, T2, N2)\n",
      "N = N1+N2\n",
      "t = t1+t2\n",
      "T = T1+T2\n",
      "\n",
      "# initialize the array containing the solution for each time-step\n",
      "u = numpy.empty((N, 4))\n",
      "u[0] = numpy.array([h0, v0, mp0, t0])# fill 1st element with initial values\n",
      "\n",
      "# time loop - Euler method\n",
      "for n in range(N1-1):\n",
      "        \n",
      "    u[n+1] = euler_step1(u[n], f1, dt)\n",
      "    x=n\n",
      "    \n",
      "for n in range(x,N2-1):\n",
      "    \n",
      "    u[n+1] = euler_step2(u[n], f2, dt)"
     ],
     "language": "python",
     "metadata": {},
     "outputs": [],
     "prompt_number": 5
    },
    {
     "cell_type": "code",
     "collapsed": false,
     "input": [
      "h = u[:,0]\n",
      "t = u[:,3]"
     ],
     "language": "python",
     "metadata": {},
     "outputs": [],
     "prompt_number": 6
    },
    {
     "cell_type": "code",
     "collapsed": false,
     "input": [
      "idx_negative = numpy.where(h<0.0)[0]\n",
      "if len(idx_negative)==0:\n",
      "    idx_ground = N-1\n",
      "    print ('Euler integration has not touched ground yet!')\n",
      "else:\n",
      "    idx_ground = idx_negative[0]"
     ],
     "language": "python",
     "metadata": {},
     "outputs": [],
     "prompt_number": 7
    },
    {
     "cell_type": "code",
     "collapsed": false,
     "input": [
      "plt.figure(figsize=(10,6))\n",
      "plt.subplot(121)\n",
      "plt.grid(True)\n",
      "plt.xlabel('$t$')\n",
      "plt.ylabel('$h$')\n",
      "plt.plot(t[:idx_ground], h[:idx_ground], 'k-', label='Euler')\n",
      "plt.title('time: {:.3f}'.format(t[idx_ground-1]))\n",
      "plt.legend();"
     ],
     "language": "python",
     "metadata": {},
     "outputs": [
      {
       "metadata": {},
       "output_type": "display_data",
       "png": "[encoded data removed]",
       "text": [
        "<matplotlib.figure.Figure at 0x3dcc6a0>"
       ]
      }
     ],
     "prompt_number": 8
    },
    {
     "cell_type": "code",
     "collapsed": false,
     "input": [],
     "language": "python",
     "metadata": {},
     "outputs": []
    }
   ],
   "metadata": {}
  }
 ]
}