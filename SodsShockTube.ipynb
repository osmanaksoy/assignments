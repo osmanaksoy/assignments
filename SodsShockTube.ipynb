{
 "metadata": {
  "name": "",
  "signature": "sha256:de5d5fc37f7eb65d0e1a0e60feaf79caffa81fab784b0ebbc59f8f4e530206a6"
 },
 "nbformat": 3,
 "nbformat_minor": 0,
 "worksheets": [
  {
   "cells": [
    {
     "cell_type": "code",
     "collapsed": false,
     "input": [
      "import numpy as np\n",
      "import matplotlib.pyplot as plt\n",
      "get_ipython().magic(u'matplotlib inline')"
     ],
     "language": "python",
     "metadata": {},
     "outputs": [],
     "prompt_number": 1
    },
    {
     "cell_type": "code",
     "collapsed": false,
     "input": [
      "def sodIC1():\n",
      "    nx = 81\n",
      "    dx = 0.25\n",
      "    dt = 0.0002\n",
      "    x = np.linspace(-10,10,nx)\n",
      "    \n",
      "    nt = 50\n",
      "    \n",
      "    #initial conditions\n",
      "    wl = np.array([1., 0, 100000.])\n",
      "    wr = np.array([0.125, 0, 10000.])\n",
      "    \n",
      "    U = np.ones((3,nx))\n",
      "    \n",
      "    U[:,:(nx-1)/2.] = build_U(wl[0],wl[1],wl[2])\n",
      "    U[:,(nx-1)/2.:] = build_U(wr[0],wr[1],wr[2])\n",
      "    \n",
      "    return U, dx, dt, nx, x, int(nt)"
     ],
     "language": "python",
     "metadata": {},
     "outputs": [],
     "prompt_number": 10
    },
    {
     "cell_type": "code",
     "collapsed": false,
     "input": [
      "def build_U(rho, u, p):\n",
      "    gamma = 1.4\n",
      "    e = p / ((gamma-1)*rho)\n",
      "    e_T = e + u**2/2\n",
      "    \n",
      "    U = np.array([[rho],[rho*u],[rho*e_T]])\n",
      "    \n",
      "    return U"
     ],
     "language": "python",
     "metadata": {},
     "outputs": [],
     "prompt_number": 11
    },
    {
     "cell_type": "code",
     "collapsed": false,
     "input": [
      "def build_flux(U_in):\n",
      "    \n",
      "    gamma = 1.4\n",
      "    u1, u2, u3 = U_in[0], U_in[1], U_in[2]\n",
      "    F = np.array([u2,                  u2**2/u1+(gamma-1)*(u3-u2**2/(2*u1)),                  u2/u1*(u3+(gamma-1)*(u3-u2**2/(2*u1)))])\n",
      "    return F"
     ],
     "language": "python",
     "metadata": {},
     "outputs": [],
     "prompt_number": 12
    },
    {
     "cell_type": "code",
     "collapsed": false,
     "input": [
      "def richtmyer(U, dx, dt, nx, nt):\n",
      "    UN = np.ones((3,nx))\n",
      "    UN_plus = np.ones((3,nx))\n",
      "    UN_minus = np.ones((3,nx))\n",
      "    \n",
      "    for i in range(nt):\n",
      "        UN_plus[:,:-1] = .5*(U[:,1:]+U[:,:-1]) - dt/(2*dx)*(build_flux(U[:,1:]) - build_flux(U[:,:-1]))\n",
      "        \n",
      "        UN_minus[:,1:] = UN_plus[:,:-1]  \n",
      "        UN[:,1:-1] = U[:,1:-1] - dt/dx *(build_flux(UN_plus[:,1:-1]) - build_flux(UN_minus[:,1:-1]))\n",
      "        \n",
      "        UN[:,0] = UN[:,1]\n",
      "        UN[:,-1] = UN[:,-2]\n",
      "        \n",
      "        U[:,:] = UN[:,:]\n",
      "        \n",
      "    return U"
     ],
     "language": "python",
     "metadata": {},
     "outputs": [],
     "prompt_number": 13
    },
    {
     "cell_type": "code",
     "collapsed": false,
     "input": [
      "def decompose_U(U_in):\n",
      "    \n",
      "    gamma = 1.4\n",
      "    \n",
      "    vel = U_in[1,:]/U_in[0,:]\n",
      "    pres = (gamma - 1)*(U_in[2,:] - .5 * U_in[1,:]**2 / U_in[0,:])\n",
      "    rho = U_in[0,:]\n",
      "    c = np.sqrt(gamma * pres / rho)\n",
      "    S = pres/rho**gamma\n",
      "    \n",
      "    return vel, pres, rho, c, S"
     ],
     "language": "python",
     "metadata": {},
     "outputs": [],
     "prompt_number": 14
    },
    {
     "cell_type": "code",
     "collapsed": false,
     "input": [
      "U, dx, dt, nx, x, nt = sodIC1()\n",
      "U = richtmyer(U, dx, dt, nx, nt)\n",
      "vel, pres, rho, c, S = decompose_U(U)"
     ],
     "language": "python",
     "metadata": {},
     "outputs": [],
     "prompt_number": 16
    },
    {
     "cell_type": "code",
     "collapsed": false,
     "input": [
      "x[50]"
     ],
     "language": "python",
     "metadata": {},
     "outputs": [
      {
       "metadata": {},
       "output_type": "pyout",
       "prompt_number": 17,
       "text": [
        "2.5"
       ]
      }
     ],
     "prompt_number": 17
    },
    {
     "cell_type": "code",
     "collapsed": false,
     "input": [
      "rho[50]"
     ],
     "language": "python",
     "metadata": {},
     "outputs": [
      {
       "metadata": {},
       "output_type": "pyout",
       "prompt_number": 18,
       "text": [
        "0.3746914026476012"
       ]
      }
     ],
     "prompt_number": 18
    },
    {
     "cell_type": "code",
     "collapsed": false,
     "input": [
      "vel[50]"
     ],
     "language": "python",
     "metadata": {},
     "outputs": [
      {
       "metadata": {},
       "output_type": "pyout",
       "prompt_number": 19,
       "text": [
        "292.61147152682651"
       ]
      }
     ],
     "prompt_number": 19
    },
    {
     "cell_type": "code",
     "collapsed": false,
     "input": [
      "pres[50]"
     ],
     "language": "python",
     "metadata": {},
     "outputs": [
      {
       "metadata": {},
       "output_type": "pyout",
       "prompt_number": 20,
       "text": [
        "30250.89016757203"
       ]
      }
     ],
     "prompt_number": 20
    },
    {
     "cell_type": "code",
     "collapsed": false,
     "input": [],
     "language": "python",
     "metadata": {},
     "outputs": []
    }
   ],
   "metadata": {}
  }
 ]
}