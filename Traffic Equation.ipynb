{
 "metadata": {
  "name": "",
  "signature": "sha256:cec07402f5ef5f31e65aa52477e6c4a1bc10601d78c6db25aa050a465ee74a64"
 },
 "nbformat": 3,
 "nbformat_minor": 0,
 "worksheets": [
  {
   "cells": [
    {
     "cell_type": "code",
     "collapsed": false,
     "input": [
      "import numpy\n",
      "import matplotlib.pyplot as plt"
     ],
     "language": "python",
     "metadata": {},
     "outputs": [],
     "prompt_number": 2
    },
    {
     "cell_type": "code",
     "collapsed": false,
     "input": [
      "v_max=136/60.   # {km/min}.\n",
      "L=11.           # {km}\n",
      "rho_max=250.0   # {cars/km}\n",
      "nx=51.\n",
      "nt=200     \n",
      "dt=0.01\n",
      "dx=11./(nx-1)"
     ],
     "language": "python",
     "metadata": {},
     "outputs": [],
     "prompt_number": 3
    },
    {
     "cell_type": "code",
     "collapsed": false,
     "input": [
      "# initial conditions for traffic density\n",
      "x = numpy.linspace(0,L,nx)\n",
      "rho0 = numpy.ones(nx)*20\n",
      "rho0[10:20] = 50"
     ],
     "language": "python",
     "metadata": {},
     "outputs": [],
     "prompt_number": 4
    },
    {
     "cell_type": "code",
     "collapsed": false,
     "input": [
      "for n in range(1, nt):  \n",
      "    rho0n = rho0.copy() \n",
      "    rho0[1:] = rho0n[1:]-(v_max/rho_max)*dt/dx*((rho0n[1:]*(rho_max-rho0n[1:]))-(rho0n[0:-1]*(rho_max-rho0n[0:-1])))\n",
      "    rho0[0] = 20.0"
     ],
     "language": "python",
     "metadata": {},
     "outputs": [],
     "prompt_number": 5
    },
    {
     "cell_type": "code",
     "collapsed": false,
     "input": [
      "V=v_max*(1-(rho0/rho_max))"
     ],
     "language": "python",
     "metadata": {},
     "outputs": [],
     "prompt_number": 6
    },
    {
     "cell_type": "code",
     "collapsed": false,
     "input": [
      "min(V)*1000/60"
     ],
     "language": "python",
     "metadata": {},
     "outputs": [
      {
       "metadata": {},
       "output_type": "pyout",
       "prompt_number": 9,
       "text": [
        "31.00790197863429"
       ]
      }
     ],
     "prompt_number": 9
    },
    {
     "cell_type": "code",
     "collapsed": false,
     "input": [
      "sum(V)*1000/60/51"
     ],
     "language": "python",
     "metadata": {},
     "outputs": [
      {
       "metadata": {},
       "output_type": "pyout",
       "prompt_number": 12,
       "text": [
        "33.866722905542446"
       ]
      }
     ],
     "prompt_number": 12
    },
    {
     "cell_type": "code",
     "collapsed": false,
     "input": [],
     "language": "python",
     "metadata": {},
     "outputs": []
    }
   ],
   "metadata": {}
  }
 ]
}